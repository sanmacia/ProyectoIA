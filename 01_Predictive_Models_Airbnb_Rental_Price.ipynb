{
  "cells": [
    {
      "cell_type": "markdown",
      "metadata": {
        "id": "view-in-github",
        "colab_type": "text"
      },
      "source": [
        "<a href=\"https://colab.research.google.com/github/sanmacia/ProyectoIA/blob/main/01_Predictive_Models_Airbnb_Rental_Price.ipynb\" target=\"_parent\"><img src=\"https://colab.research.google.com/assets/colab-badge.svg\" alt=\"Open In Colab\"/></a>"
      ]
    },
    {
      "cell_type": "code",
      "execution_count": null,
      "metadata": {
        "colab": {
          "base_uri": "https://localhost:8080/",
          "height": 75
        },
        "id": "ZT41eNDhi-Mh",
        "outputId": "8fbcc394-8b6e-47ae-9b3a-4df13b0220f9"
      },
      "outputs": [
        {
          "output_type": "display_data",
          "data": {
            "text/plain": [
              "<IPython.core.display.HTML object>"
            ],
            "text/html": [
              "\n",
              "<meta name=\"google-signin-client_id\"\n",
              "      content=\"461673936472-kdjosv61up3ac1ajeuq6qqu72upilmls.apps.googleusercontent.com\"/>\n",
              "<script src=\"https://apis.google.com/js/client:platform.js?onload=google_button_start\"></script>\n",
              "    "
            ]
          },
          "metadata": {}
        },
        {
          "output_type": "stream",
          "name": "stdout",
          "text": [
            "replicating local resources\n"
          ]
        },
        {
          "output_type": "execute_result",
          "data": {
            "text/plain": [
              "<IPython.core.display.HTML object>"
            ],
            "text/html": [
              "<h3>See <a href='https://m5knaekxo6.execute-api.us-west-2.amazonaws.com/dev-v0001/rlxmooc/web/login' target='_blank'>my courses and progress</a></h2>"
            ]
          },
          "metadata": {},
          "execution_count": 4
        }
      ],
      "source": [
        "!wget --no-cache -O init.py -q https://raw.githubusercontent.com/rramosp/ai4eng.v1/main/content/init.py\n",
        "import init; init.init(force_download=False); init.get_weblink()"
      ]
    },
    {
      "cell_type": "code",
      "execution_count": null,
      "metadata": {
        "id": "JT-3s2dJMz8Q"
      },
      "outputs": [],
      "source": [
        "import pandas as pd\n",
        "import numpy as np\n",
        "import matplotlib.pyplot as plt\n",
        "%matplotlib inline\n",
        "from local.lib import calhousing as ch"
      ]
    },
    {
      "cell_type": "markdown",
      "metadata": {
        "id": "fQ7xmSnsM_iX"
      },
      "source": [
        "## IMPORT FROM WEBSITE"
      ]
    },
    {
      "cell_type": "code",
      "execution_count": null,
      "metadata": {
        "id": "FYpKX99m5ywl",
        "colab": {
          "base_uri": "https://localhost:8080/"
        },
        "outputId": "16399087-6ac6-4d26-c3d1-12ddf8924cca"
      },
      "outputs": [
        {
          "output_type": "stream",
          "name": "stdout",
          "text": [
            "Please provide your Kaggle credentials to download this dataset. Learn more: http://bit.ly/kaggle-creds\n",
            "Your Kaggle username: diegosaavedrav\n",
            "Your Kaggle Key: ··········\n",
            "Downloading new-orleans-airbnb-listings-and-reviews.zip to ./new-orleans-airbnb-listings-and-reviews\n"
          ]
        },
        {
          "output_type": "stream",
          "name": "stderr",
          "text": [
            "100%|██████████| 40.2M/40.2M [00:00<00:00, 44.9MB/s]\n"
          ]
        },
        {
          "output_type": "stream",
          "name": "stdout",
          "text": [
            "\n"
          ]
        }
      ],
      "source": [
        "! pip install -q opendatasets\n",
        "import opendatasets as od\n",
        "od.download('https://www.kaggle.com/datasets/ruthgn/new-orleans-airbnb-listings-and-reviews') #Colocar URL de la competición de kaggle"
      ]
    },
    {
      "cell_type": "code",
      "execution_count": null,
      "metadata": {
        "id": "r8HR9Bmx8bdU"
      },
      "outputs": [],
      "source": [
        "li = pd.read_csv('/content/new-orleans-airbnb-listings-and-reviews/new_orleans_airbnb_listings.csv')\n",
        "re = pd.read_csv('/content/new-orleans-airbnb-listings-and-reviews/new_orleans_airbnb_reviews.csv')"
      ]
    },
    {
      "cell_type": "markdown",
      "metadata": {
        "id": "_fUw4ggKtj4i"
      },
      "source": [
        "## DATA CLEANING"
      ]
    },
    {
      "cell_type": "markdown",
      "metadata": {
        "id": "vzYVa7jUvLCB"
      },
      "source": [
        "### Inspección"
      ]
    },
    {
      "cell_type": "code",
      "execution_count": null,
      "metadata": {
        "id": "DYPijT5jcx0P"
      },
      "outputs": [],
      "source": [
        "li.info()"
      ]
    },
    {
      "cell_type": "code",
      "execution_count": null,
      "metadata": {
        "id": "CHBuMSwkcwua"
      },
      "outputs": [],
      "source": [
        "li.head()"
      ]
    },
    {
      "cell_type": "code",
      "source": [
        "re.head()"
      ],
      "metadata": {
        "id": "iUqmjYcyCHZG"
      },
      "execution_count": null,
      "outputs": []
    },
    {
      "cell_type": "markdown",
      "metadata": {
        "id": "WsDGsfMAdBOG"
      },
      "source": [
        "### Variables categóricas"
      ]
    },
    {
      "cell_type": "code",
      "execution_count": null,
      "metadata": {
        "id": "akE3-fwTxWrB"
      },
      "outputs": [],
      "source": [
        "#Valores unicos categóricos\n",
        "ccols = [i for i in li.columns if not i in li._get_numeric_data()]\n",
        "for c in ccols:\n",
        "    print (\"%10s\"%c, np.unique(li[c].dropna()))"
      ]
    },
    {
      "cell_type": "code",
      "execution_count": null,
      "metadata": {
        "id": "HqOoarQrqnu8"
      },
      "outputs": [],
      "source": [
        "#------------------------------Borrar columnas innecesaria------------------------\n",
        "li = li.drop(['id', 'name', 'description', 'neighborhood_overview',\n",
        "              'host_since', 'host_location', 'host_verifications','host_has_profile_pic',\n",
        "              'host_neighbourhood','host_identity_verified','first_review',\n",
        "              'last_review', 'license', ], axis=1)\n",
        "\n",
        "\n",
        "#--------------------------------Separar variable bathrooms_text----------------------\n",
        "li[['bathrooms','bathrooms_type', 'x']] = li['bathrooms_text'].str.split(' ',expand=True) #Separar variable\n",
        "li['bathrooms'] = li['bathrooms'].astype('float') #Convertir a flotante\n",
        "li = li.drop(['x', 'bathrooms_text'], axis=1) #Borrar columnas innecesarias\n",
        "li['bathrooms_type'] = li['bathrooms_type'].replace({'bath' : 'entire home/apt', 'baths' : 'entire home/apt'}) #Reemplazar bath y baths por entire\n",
        "\n",
        "\n",
        "\n",
        "#-----------------------------Corregir variable price------------------------------\n",
        "li[\"price\"] = li[\"price\"].apply(lambda x: x.replace(\"$\",\"\")) #Quitar el signo ($) \n",
        "li[\"price\"] = li[\"price\"].apply(lambda x: x.replace(\",\",\"\")) #Quitar las comas (,)\n",
        "li['price'] = li['price'].astype('float') #Convertir a flotante\n",
        "\n",
        "#-----------------------------Corregir variable host acceptance rate------------------------------\n",
        "li[\"host_acceptance_rate\"] = li[\"host_acceptance_rate\"].apply(lambda x: str(x).replace(\"%\",\"\")) #Quitar el signo (%) \n",
        "li['host_acceptance_rate'] = li['host_acceptance_rate'].astype('float') #Convertir a flotante\n",
        "\n",
        "#-----------------------------Corregir variable host response rate------------------------------\n",
        "li[\"host_response_rate\"] = li[\"host_response_rate\"].apply(lambda x: str(x).replace(\"%\",\"\")) #Quitar el signo (%) \n",
        "li['host_response_rate'] = li['host_response_rate'].astype('float') #Convertir a flotante\n",
        "\n",
        "\n",
        "\n",
        "\n",
        "li[\"instant_bookable\"] = li[\"instant_bookable\"].replace({'t': 1, 'f': 0})\n",
        "li[\"host_is_superhost\"] = li[\"host_is_superhost\"].replace({'t': 1, 'f': 0})\n",
        "li[\"has_availability\"] = li[\"has_availability\"].replace({'t': 1, 'f': 0})\n",
        "\n",
        "\n",
        "#--------------------------Renombrar columna----------------------\n",
        "li = li.rename(columns={'review_scores_rating':'global_score',\n",
        "                        'neighbourhood_cleansed' : 'neighborhood'})\n",
        "\n",
        "\n",
        "#-----------------------Seleccionar columnas relevantes------------------\n",
        "li = li.loc[:,['neighborhood', 'property_type','room_type', \n",
        "        'accommodates', 'bathrooms', 'bathrooms_type', 'bedrooms', 'beds',\n",
        "       'amenities', 'minimum_nights', 'maximum_nights',\n",
        "       'host_id', 'host_is_superhost', 'host_listings_count',\n",
        "       'host_response_time','host_response_rate', 'host_acceptance_rate',\n",
        "       'instant_bookable' , 'has_availability', 'availability_30', 'availability_60',\n",
        "       'availability_90', 'availability_365', 'number_of_reviews',\n",
        "       'number_of_reviews_ltm', 'number_of_reviews_l30d', \n",
        "       'global_score', 'review_scores_accuracy',\n",
        "       'review_scores_cleanliness', 'review_scores_checkin',\n",
        "       'review_scores_communication', 'review_scores_location',\n",
        "       'review_scores_value','reviews_per_month','latitude', 'longitude', 'price']] #Deja las columnas mencionadas y en ese orden y las que no están las elimlina"
      ]
    },
    {
      "cell_type": "code",
      "execution_count": null,
      "metadata": {
        "id": "k-s0TWyTL8V-"
      },
      "outputs": [],
      "source": [
        "li['bathrooms'].unique()"
      ]
    },
    {
      "cell_type": "code",
      "execution_count": null,
      "metadata": {
        "id": "DY7IaLOdndQ9"
      },
      "outputs": [],
      "source": [
        "li['bathrooms_type'].value_counts()"
      ]
    },
    {
      "cell_type": "code",
      "execution_count": null,
      "metadata": {
        "id": "8PQYbJDbrY87"
      },
      "outputs": [],
      "source": [
        "#Filtro que contenga la palabra Entire\n",
        "li[li['bathrooms_type'].str.contains('entire', na = True)].sample(5) "
      ]
    },
    {
      "cell_type": "code",
      "execution_count": null,
      "metadata": {
        "id": "es4I6_dDGtuu"
      },
      "outputs": [],
      "source": [
        "#Valores unicos categóricos\n",
        "ccols = [i for i in li.columns if not i in li._get_numeric_data()]\n",
        "for c in ccols:\n",
        "    print (\"%10s\"%c, np.unique(li[c].dropna()))"
      ]
    },
    {
      "cell_type": "markdown",
      "metadata": {
        "id": "Ys9nU57zsM2x"
      },
      "source": [
        "### Variables continuas"
      ]
    },
    {
      "cell_type": "code",
      "execution_count": null,
      "metadata": {
        "id": "bCKBwVc2sQqe"
      },
      "outputs": [],
      "source": [
        "#Valores únicos continuos\n",
        "ccols = [i for i in li.columns if i in li._get_numeric_data()]\n",
        "for c in ccols:\n",
        "    print (\"%10s\"%c, np.unique(li[c].dropna()))"
      ]
    },
    {
      "cell_type": "markdown",
      "metadata": {
        "id": "jE5nA2lsSo98"
      },
      "source": [
        "### Limpieza nulos"
      ]
    },
    {
      "cell_type": "code",
      "execution_count": null,
      "metadata": {
        "colab": {
          "base_uri": "https://localhost:8080/"
        },
        "id": "b4MDpHIpSsvz",
        "outputId": "96c67b81-a862-4c1e-b975-c19f9b078bed"
      },
      "outputs": [
        {
          "output_type": "stream",
          "name": "stdout",
          "text": [
            "Antes de eliminar nulos\n",
            "###########################\n",
            "bathrooms                        16\n",
            "bathrooms_type                   16\n",
            "bedrooms                        303\n",
            "beds                            122\n",
            "host_is_superhost                38\n",
            "host_listings_count              38\n",
            "host_response_time             1579\n",
            "host_response_rate             1579\n",
            "host_acceptance_rate           1466\n",
            "global_score                    672\n",
            "review_scores_accuracy          687\n",
            "review_scores_cleanliness       685\n",
            "review_scores_checkin           687\n",
            "review_scores_communication     686\n",
            "review_scores_location          687\n",
            "review_scores_value             687\n",
            "reviews_per_month               672\n",
            "dtype: int64\n",
            "\n",
            "Después de eliminar nulos\n",
            "###########################\n",
            "Series([], dtype: int64)\n"
          ]
        }
      ],
      "source": [
        "#Totalidad de nulos en las variables\n",
        "k = li.isna().sum()\n",
        "print('Antes de eliminar nulos')\n",
        "print('###########################') \n",
        "print(k[k!=0])\n",
        "#---------------------------------------Reemplazar nan por palabras---------------------------\n",
        "li['bathrooms_type'] = li['bathrooms_type'].replace({np.nan : 'no baths'})\n",
        "\n",
        "\n",
        "#--------------------------------------------Reemplazar nan por ceros----------------------------------------------\n",
        "li[['bedrooms', 'beds', 'bathrooms', 'reviews_per_month', 'host_listings_count']] = li[['bedrooms', 'beds','bathrooms', 'reviews_per_month', 'host_listings_count']].fillna(0)\n",
        "\n",
        "\n",
        "\n",
        "\n",
        "#-------------------Rellenar nulos del puntaje global con el promedio de ese anfitrión----------------------------- \n",
        "li['host_response_rate'] = li.groupby(['host_id'])  ['host_response_rate'].apply(lambda x: x.fillna(x.mean()))\n",
        "li['host_acceptance_rate'] = li.groupby(['host_id'])  ['host_acceptance_rate'].apply(lambda x: x.fillna(x.mean()))\n",
        "\n",
        "#-----------------------Rellenar nulos del puntaje global con el promedio de ese anfitrión---------------------------- \n",
        "li['global_score'] = round(li.groupby(['host_id'])  ['global_score'].apply(lambda x: x.fillna(x.mean())), 2)\n",
        "li['review_scores_accuracy'] = round(li.groupby(['host_id'])  ['review_scores_accuracy'].apply(lambda x: x.fillna(x.mean())), 2)\n",
        "li['review_scores_cleanliness'] = round(li.groupby(['host_id'])  ['review_scores_cleanliness'].apply(lambda x: x.fillna(x.mean())), 2)\n",
        "li['review_scores_checkin'] = round(li.groupby(['host_id'])  ['review_scores_checkin'].apply(lambda x: x.fillna(x.mean())), 2)\n",
        "li['review_scores_communication'] = round(li.groupby(['host_id'])  ['review_scores_communication'].apply(lambda x: x.fillna(x.mean())), 2)\n",
        "li['review_scores_location'] = round(li.groupby(['host_id'])  ['review_scores_location'].apply(lambda x: x.fillna(x.mean())), 2)\n",
        "li['review_scores_value'] = round(li.groupby(['host_id'])  ['review_scores_value'].apply(lambda x: x.fillna(x.mean())), 2)\n",
        "\n",
        "\n",
        "\n",
        "li = li.drop(['host_response_time', 'host_response_rate', 'host_acceptance_rate', 'host_id'], axis=1) #Borrar columnas innecesarias\n",
        "\n",
        "li = li.dropna() #Borrar registros que tengan nan\n",
        "\n",
        "\n",
        "#Convertir columnas a entero\n",
        "li[['bedrooms', 'beds', 'price', 'reviews_per_month', 'host_listings_count']] = li[['bedrooms', 'beds', 'price', 'reviews_per_month', 'host_listings_count']].astype('int64') \n",
        "\n",
        "\n",
        "#Eliminar 2 registros que tienen price = 0\n",
        "li = li.drop(li[li['price'] == 0].index)\n",
        "\n",
        "\n",
        "#Totalidad de nulos en las variables\n",
        "k = li.isna().sum()\n",
        "print('')\n",
        "\n",
        "print('Después de eliminar nulos')\n",
        "print('###########################') \n",
        "print(k[k!=0])"
      ]
    },
    {
      "cell_type": "code",
      "execution_count": null,
      "metadata": {
        "id": "2bdNfjozahPU"
      },
      "outputs": [],
      "source": [
        "li.info()"
      ]
    },
    {
      "cell_type": "markdown",
      "metadata": {
        "id": "sc9yP1GabWrT"
      },
      "source": [
        "## DATA EXPLORATION"
      ]
    },
    {
      "cell_type": "code",
      "execution_count": null,
      "metadata": {
        "colab": {
          "base_uri": "https://localhost:8080/",
          "height": 296
        },
        "id": "I1IG-bXtwPjc",
        "outputId": "c15a9b70-6bcc-40a4-e0cb-3782757e8d61"
      },
      "outputs": [
        {
          "data": {
            "text/plain": [
              "<matplotlib.axes._subplots.AxesSubplot at 0x7fbfb7415950>"
            ]
          },
          "execution_count": 9,
          "metadata": {},
          "output_type": "execute_result"
        },
        {
          "data": {
            "image/png": "[encoded data removed]",
            "text/plain": [
              "<Figure size 432x288 with 1 Axes>"
            ]
          },
          "metadata": {},
          "output_type": "display_data"
        }
      ],
      "source": [
        "#Inspect the target variable\n",
        "import seaborn as sns\n",
        "sns.distplot(li['price'])"
      ]
    },
    {
      "cell_type": "code",
      "execution_count": null,
      "metadata": {
        "colab": {
          "base_uri": "https://localhost:8080/"
        },
        "id": "T2dGVK7Aa3Yy",
        "outputId": "313c4cc3-04c7-4531-bb64-7f13eb3e6014"
      },
      "outputs": [
        {
          "data": {
            "text/plain": [
              "count    5731.000000\n",
              "mean      222.500262\n",
              "std       226.942615\n",
              "min        11.000000\n",
              "25%       104.000000\n",
              "50%       156.000000\n",
              "75%       258.000000\n",
              "max      4657.000000\n",
              "Name: price, dtype: float64"
            ]
          },
          "execution_count": 10,
          "metadata": {},
          "output_type": "execute_result"
        }
      ],
      "source": [
        "li['price'].describe()"
      ]
    },
    {
      "cell_type": "markdown",
      "metadata": {
        "id": "TH2xKbf9-208"
      },
      "source": [
        "### Mapa de calor"
      ]
    },
    {
      "cell_type": "code",
      "execution_count": null,
      "metadata": {
        "id": "nOXzkr2B6MyH"
      },
      "outputs": [],
      "source": [
        "from bokeh.plotting import *\n",
        "#from bokeh.charts import *\n",
        "from bokeh.models import *\n",
        "import bokeh\n",
        "from matplotlib import cm\n",
        "from sklearn.preprocessing import MinMaxScaler\n",
        "\n",
        "def latlng_to_meters(lat, lng):\n",
        "    origin_shift = 2 * np.pi * 6378137 / 2.0\n",
        "    mx = lng * origin_shift / 180.0\n",
        "    my = np.log(np.tan((90 + lat) * np.pi / 360.0)) / (np.pi / 180.0)\n",
        "    my = my * origin_shift / 180.0\n",
        "    return mx, my\n",
        "\n",
        "\n",
        "def xplot_map(lat, lon, color=None, size=10):\n",
        "    cmap = cm.rainbow\n",
        "    wlat, wlong = latlng_to_meters(lat, lon)\n",
        "    if color is not None:\n",
        "        colors = MinMaxScaler(feature_range=(0,255)).fit_transform(color)\n",
        "        colors = [\"#%02x%02x%02x\"%tuple([int(j*255) for j in cmap(int(i))[:3]]) for i in colors]\n",
        "\n",
        "    openmap_url = 'http://c.tile.openstreetmap.org/{Z}/{X}/{Y}.png'\n",
        "    otile_url = 'http://otile1.mqcdn.com/tiles/1.0.0/sat/{Z}/{X}/{Y}.jpg'\n",
        "\n",
        "    TILES = WMTSTileSource(url=openmap_url)\n",
        "    tools=\"pan,wheel_zoom,reset\"\n",
        "    p = figure(tools=tools, plot_width=700,plot_height=600)\n",
        "\n",
        "    p.add_tile(TILES)\n",
        "\n",
        "    p.axis.visible = False\n",
        "\n",
        "    cb = figure(plot_width=40, plot_height=600,  tools=tools)\n",
        "    yc = np.linspace(np.min(color),np.max(color),20)\n",
        "    c = np.linspace(0,255,20).astype(int)\n",
        "    dy = yc[1]-yc[0]\n",
        "    cb.rect(x=0.5, y=yc, color=[\"#%02x%02x%02x\"%tuple([int(j*255) for j in cmap(int(i))[:3]]) for i in c], width=1, height = dy)\n",
        "    cb.xaxis.visible = False\n",
        "    p.circle(np.array(wlat), np.array(wlong), color=colors, size=size)\n",
        "    pb = gridplot([[p, cb]])\n",
        "    show(pb)"
      ]
    },
    {
      "cell_type": "code",
      "execution_count": null,
      "metadata": {
        "id": "igtcl0cn6TUl"
      },
      "outputs": [],
      "source": [
        "ds = li.sample(500)\n",
        "xplot_map(ds[\"latitude\"].values, \n",
        "         ds[\"longitude\"].values, ds[\"price\"].values.reshape(-1,1)/1e5)"
      ]
    },
    {
      "cell_type": "markdown",
      "metadata": {
        "id": "X0NOl2tO6K6O"
      },
      "source": [
        "### Correlación"
      ]
    },
    {
      "cell_type": "code",
      "execution_count": null,
      "metadata": {
        "id": "jXIN3MHQbaub"
      },
      "outputs": [],
      "source": [
        "#correlation matrix\n",
        "corrmat = li.corr()\n",
        "f, ax = plt.subplots(figsize=(12, 9))\n",
        "sns.heatmap(corrmat, vmax=.8, square=True);"
      ]
    },
    {
      "cell_type": "markdown",
      "metadata": {
        "id": "bWPnz3IAcfbQ"
      },
      "source": [
        "## DATA PREPROCESSING"
      ]
    },
    {
      "cell_type": "markdown",
      "metadata": {
        "id": "T1RqjHkYsK-j"
      },
      "source": [
        "Se deben transformar los datos categoricos y numericos\n",
        "\n",
        "* Categoricos: Nominal o ordinal\n",
        "* Numericos: Estandarizar datos"
      ]
    },
    {
      "cell_type": "code",
      "execution_count": null,
      "metadata": {
        "id": "X8taE6Z_UBWu"
      },
      "outputs": [],
      "source": [
        "#-------------------------------------Debido a su gran cantidad de categorias se eliminan estas columnas--------------\n",
        "li = li.drop(['property_type', 'amenities'], axis=1)"
      ]
    },
    {
      "cell_type": "code",
      "execution_count": null,
      "metadata": {
        "id": "i_Wc8f0pVgny"
      },
      "outputs": [],
      "source": [
        "#############################################Codificar variables categoricas#########################################\n",
        "\n",
        "df = li.copy()\n",
        "\n",
        "from sklearn.preprocessing import OrdinalEncoder\n",
        "\n",
        "enc_cat = OrdinalEncoder()\n",
        "df[['neighborhood', 'room_type', 'bathrooms_type']] = enc_cat.fit_transform(df[['neighborhood', 'room_type', 'bathrooms_type']])"
      ]
    },
    {
      "cell_type": "code",
      "execution_count": null,
      "metadata": {
        "id": "DHNgZTkS0N4p"
      },
      "outputs": [],
      "source": [
        "#############################################Codificar variables numericas#########################################\n",
        "\n",
        "\n",
        "\n",
        "#from sklearn.preprocessing import StandardScaler\n",
        "#enc_num = StandardScaler() \n",
        "\n",
        "#Se deben poner las columnas en doble [[]] al principio y al final\n",
        "#df[['latitude', 'longitude', 'price']] = enc_num.fit_transform(df[['latitude', 'longitude', 'price']]) "
      ]
    },
    {
      "cell_type": "markdown",
      "metadata": {
        "id": "Thd1qPZOdPX2"
      },
      "source": [
        "## MODEL EVALUATION"
      ]
    },
    {
      "cell_type": "markdown",
      "metadata": {
        "id": "ZMTi7Zgne6UH"
      },
      "source": [
        "### Separate variable to predict"
      ]
    },
    {
      "cell_type": "code",
      "execution_count": null,
      "metadata": {
        "colab": {
          "base_uri": "https://localhost:8080/"
        },
        "id": "JHA_rcWNj9iD",
        "outputId": "ecfd7b7b-ed6e-47df-a751-eeff97889d09"
      },
      "outputs": [
        {
          "output_type": "stream",
          "name": "stdout",
          "text": [
            "(250, 30) (250,)\n",
            "test size 0.30\n",
            "val size is 0.43 (relative to 0.70) \n",
            "(175, 30) (75, 30)\n"
          ]
        }
      ],
      "source": [
        "######################################################### Selección de train test####################################################################\n",
        "from sklearn.model_selection import train_test_split\n",
        "from sklearn.metrics import median_absolute_error, r2_score, mean_squared_error\n",
        "from sklearn.model_selection import cross_validate, ShuffleSplit\n",
        "\n",
        "#------------------------Parameters-----------------------------------------------------------------------------------------------------------------------\n",
        "target = 'price'\n",
        "test_size = 0.3 #Porcentaje del tamaño del test final para medir desempeño (test = 10%, train = 90%) \n",
        "number_of_houses_for_trainval = 250 # (5% del dataset) Numero de datos de una muestra aleatoria del dataset para train [Valores más grandes pueden producir un mejor desempeño]\n",
        "df = df #Dataset\n",
        "mitad = round((len(df) / 2)) #Mitad del dataset\n",
        "#-----------------------------------------------------------------------------------------------------------------------------------------------\n",
        "\n",
        "\n",
        "val_size  = test_size/(1-test_size) \n",
        "\n",
        "assert number_of_houses_for_trainval< mitad, \"too many houses for trainval\"\n",
        "\n",
        "\n",
        "d = df.iloc[: mitad].sample(number_of_houses_for_trainval)\n",
        "X = d.values[:,:-1]\n",
        "y = d[target].values\n",
        "print (X.shape, y.shape)\n",
        "\n",
        "print (\"test size %.2f\"%test_size)\n",
        "print (\"val size is %.2f (relative to %.2f) \"%(val_size, 1-test_size))\n",
        "\n",
        "Xtv, Xts, ytv, yts = train_test_split(X, y, test_size=test_size)\n",
        "print (Xtv.shape, Xts.shape)\n",
        "\n",
        "\n",
        "#----------------------------------------------------------Métricas de desempeño------------------------------------------------------------\n",
        "def rel_mrae(estimator, X, y): \n",
        "    preds = estimator.predict(X)\n",
        "    return np.mean(np.abs(preds-y)/y)\n",
        "\n",
        "#Reporte del score\n",
        "def report_cv_score(z):\n",
        "    print (\"test score   %.3f (±%.4f) with %d splits\"%(np.mean(z[\"test_score\"]), np.std(z[\"test_score\"]), len(z[\"test_score\"])))\n",
        "    print (\"train score  %.3f (±%.4f) with %d splits\"%(np.mean(z[\"train_score\"]), np.std(z[\"train_score\"]), len(z[\"train_score\"])))\n"
      ]
    },
    {
      "cell_type": "markdown",
      "metadata": {
        "id": "xeg_WusBYT4u"
      },
      "source": [
        "### MODELS"
      ]
    },
    {
      "cell_type": "markdown",
      "metadata": {
        "id": "ha4NDDtGgO1w"
      },
      "source": [
        "#### MODEL 1 DecisionTreeRegressor (5)"
      ]
    },
    {
      "cell_type": "code",
      "execution_count": null,
      "metadata": {
        "colab": {
          "base_uri": "https://localhost:8080/",
          "height": 330
        },
        "id": "T0xk_xOqngwh",
        "outputId": "cbe3b1ff-37bc-4ecc-8492-17454872af38"
      },
      "outputs": [
        {
          "name": "stdout",
          "output_type": "stream",
          "text": [
            "test score   0.565 (±0.2021) with 10 splits\n",
            "train score  0.332 (±0.0207) with 10 splits\n"
          ]
        },
        {
          "data": {
            "image/png": "[encoded data removed]",
            "text/plain": [
              "<Figure size 432x288 with 1 Axes>"
            ]
          },
          "metadata": {},
          "output_type": "display_data"
        }
      ],
      "source": [
        "from sklearn.tree import DecisionTreeRegressor\n",
        "estimator1 = DecisionTreeRegressor(max_depth=5) #Cambiar [estimador y argumento del modelo]\n",
        "\n",
        "cv=ShuffleSplit(n_splits=10, test_size=0.1)\n",
        "z1 = cross_validate(estimator1, X, y, return_train_score=True, return_estimator=True, #Cambiar [z, estimador]\n",
        "                    scoring=rel_mrae, cv = cv)\n",
        "report_cv_score(z1)                                                                     #Cambiar z\n",
        "\n",
        "ch.plot_learning_curve(estimator1, estimator1.__class__.__name__, X, y, cv=cv, scoring=rel_mrae, ylim=(0,0.7)) #Cambiar [estimador]"
      ]
    },
    {
      "cell_type": "markdown",
      "metadata": {
        "id": "nytbNarJ6QCL"
      },
      "source": [
        "Vemos un caso de sesgo, entonce tenemos dos soluciones:\n",
        "* Aumentar la complejidad del modelo \n",
        "* Conseguir más columnas\n"
      ]
    },
    {
      "cell_type": "markdown",
      "metadata": {
        "id": "XMn3yVJSHN-m"
      },
      "source": [
        "#### MODEL 2 DecisionTreeRegressor (10)"
      ]
    },
    {
      "cell_type": "code",
      "execution_count": null,
      "metadata": {
        "colab": {
          "base_uri": "https://localhost:8080/",
          "height": 330
        },
        "id": "Yhjc71UC6zJP",
        "outputId": "190d71bb-890d-422c-e7c2-034f1f74149d"
      },
      "outputs": [
        {
          "name": "stdout",
          "output_type": "stream",
          "text": [
            "test score   0.543 (±0.0942) with 10 splits\n",
            "train score  0.068 (±0.0151) with 10 splits\n"
          ]
        },
        {
          "data": {
            "image/png": "[encoded data removed]",
            "text/plain": [
              "<Figure size 432x288 with 1 Axes>"
            ]
          },
          "metadata": {},
          "output_type": "display_data"
        }
      ],
      "source": [
        "from sklearn.ensemble import RandomForestRegressor\n",
        "estimator2 = DecisionTreeRegressor(max_depth=10) #Cambiar [estimador y argumento del modelo]\n",
        "\n",
        "\n",
        "cv=ShuffleSplit(n_splits=10, test_size=0.1)\n",
        "z2 = cross_validate(estimator2, X, y, return_train_score=True, return_estimator=True, #Cambiar [z, estimador]\n",
        "                    scoring=rel_mrae, cv=cv)  \n",
        "report_cv_score(z2)                                                                     #Cambiar [z]\n",
        "\n",
        "ch.plot_learning_curve(estimator2, estimator2.__class__.__name__, X, y, cv=cv, scoring=rel_mrae, ylim=(0,0.7)) #Cambiar [estimador]"
      ]
    },
    {
      "cell_type": "markdown",
      "metadata": {
        "id": "-XmlXsn5JjhK"
      },
      "source": [
        "#### MODEL 3 SVC (gamma = 0.00001)"
      ]
    },
    {
      "cell_type": "code",
      "execution_count": null,
      "metadata": {
        "colab": {
          "base_uri": "https://localhost:8080/",
          "height": 330
        },
        "id": "0_i2ynuoJjG2",
        "outputId": "e2879776-8b33-44fc-978e-2febaff6f5f8"
      },
      "outputs": [
        {
          "name": "stdout",
          "output_type": "stream",
          "text": [
            "test score   0.478 (±0.0620) with 10 splits\n",
            "train score  0.438 (±0.0263) with 10 splits\n"
          ]
        },
        {
          "data": {
            "image/png": "[encoded data removed]",
            "text/plain": [
              "<Figure size 432x288 with 1 Axes>"
            ]
          },
          "metadata": {},
          "output_type": "display_data"
        }
      ],
      "source": [
        "from sklearn.svm import SVC\n",
        "\n",
        "estimador3 = SVC(gamma= 0.00001) #Cambiar [estimador]\n",
        "\n",
        "cv=ShuffleSplit(n_splits=10, test_size=0.1)\n",
        "z3 = cross_validate(estimador3, X, y, return_train_score=True, return_estimator=True, #Cambiar [z, estimador]\n",
        "                    scoring=rel_mrae, cv=cv)\n",
        "report_cv_score(z3)                                                                     #Cambiar [z]\n",
        "\n",
        "ch.plot_learning_curve(estimador3, estimador3.__class__.__name__, X, y, cv=cv, scoring=rel_mrae, ylim=(0,0.7)) #Cambiar [estimador]"
      ]
    },
    {
      "cell_type": "markdown",
      "metadata": {
        "id": "8iGLmextLp_j"
      },
      "source": [
        "#### Model 4 SVC (gamma = 0.001)"
      ]
    },
    {
      "cell_type": "code",
      "execution_count": null,
      "metadata": {
        "colab": {
          "base_uri": "https://localhost:8080/",
          "height": 330
        },
        "id": "VvacfsI_KmdS",
        "outputId": "f6d9407e-9347-460e-b488-efd176af8e35"
      },
      "outputs": [
        {
          "name": "stdout",
          "output_type": "stream",
          "text": [
            "test score   0.477 (±0.0395) with 10 splits\n",
            "train score  0.056 (±0.0078) with 10 splits\n"
          ]
        },
        {
          "data": {
            "image/png": "[encoded data removed]",
            "text/plain": [
              "<Figure size 432x288 with 1 Axes>"
            ]
          },
          "metadata": {},
          "output_type": "display_data"
        }
      ],
      "source": [
        "from sklearn.svm import SVC\n",
        "\n",
        "estimador4 = SVC(gamma= 0.001) #Cambiar [estimador]\n",
        "\n",
        "cv=ShuffleSplit(n_splits=10, test_size=0.1)\n",
        "z4 = cross_validate(estimador4, X, y, return_train_score=True, return_estimator=True, #Cambiar [z, estimador]\n",
        "                    scoring=rel_mrae, cv=cv)\n",
        "report_cv_score(z4)                                                                     #Cambiar [z]\n",
        "\n",
        "ch.plot_learning_curve(estimador4, estimador4.__class__.__name__, X, y, cv=cv, scoring=rel_mrae, ylim=(0,0.7)) #Cambiar [estimador]"
      ]
    },
    {
      "cell_type": "markdown",
      "source": [
        "## MODEL SELECTION"
      ],
      "metadata": {
        "id": "1EHPKzHJC32y"
      }
    },
    {
      "cell_type": "code",
      "execution_count": null,
      "metadata": {
        "colab": {
          "base_uri": "https://localhost:8080/"
        },
        "id": "-ev42MbPdOBi",
        "outputId": "013f4f14-bff1-4f42-91ba-85b429e49c40"
      },
      "outputs": [
        {
          "name": "stdout",
          "output_type": "stream",
          "text": [
            "--\n",
            "test score   0.531 (±0.0757) with 10 splits\n",
            "train score  0.231 (±0.0311) with 10 splits\n",
            "--\n",
            "test score   0.672 (±0.1213) with 10 splits\n",
            "train score  0.026 (±0.0180) with 10 splits\n",
            "--\n",
            "test score   0.494 (±0.0353) with 10 splits\n",
            "train score  0.438 (±0.0337) with 10 splits\n",
            "--\n",
            "test score   0.542 (±0.0730) with 10 splits\n",
            "train score  0.034 (±0.0271) with 10 splits\n",
            "\n",
            "selected model 3\n",
            "SVC(gamma=1e-05)\n",
            "\n",
            "##########################################Real data test################################################\n",
            "\n",
            "\n",
            "reported performance of selectd model 0.462 | Name final model: SVC(gamma=1e-05)\n"
          ]
        }
      ],
      "source": [
        "#################################################Selección de mejor modelo#####################################\n",
        "zscores = []\n",
        "estimators = [estimator1, estimator2, estimador3, estimador4 ] #Cambiar estimadores []\n",
        "\n",
        "\n",
        "for estimator in estimators:\n",
        "    print(\"--\")\n",
        "    z = cross_validate(estimator, Xtv, ytv, return_train_score=True, return_estimator=False,\n",
        "                       scoring=rel_mrae, cv=ShuffleSplit(n_splits=10, test_size=val_size))\n",
        "    report_cv_score(z)\n",
        "    zscores.append(np.mean(z[\"test_score\"]))\n",
        "best = np.argmin(zscores)\n",
        "#print (\"selecting \", best)\n",
        "best_estimator = estimators[best]\n",
        "print (\"\\nselected model\", best +1 )\n",
        "print (best_estimator)\n",
        "\n",
        "print('')\n",
        "print('##########################################Real data test################################################')\n",
        "print('')\n",
        "print('')\n",
        "best_estimator.fit(Xtv,ytv)\n",
        "reported_performance = rel_mrae(best_estimator, Xts, yts)\n",
        "print (\"reported performance of selectd model %.3f\"%reported_performance, '| Name final model:',best_estimator)"
      ]
    }
  ],
  "metadata": {
    "colab": {
      "name": "01 - Predictive_Models_Airbnb_Rental_Price.ipynb",
      "provenance": [],
      "include_colab_link": true
    },
    "kernelspec": {
      "display_name": "Python 3",
      "name": "python3"
    },
    "language_info": {
      "name": "python"
    }
  },
  "nbformat": 4,
  "nbformat_minor": 0
}